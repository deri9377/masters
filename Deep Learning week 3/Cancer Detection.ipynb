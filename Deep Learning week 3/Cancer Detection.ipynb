{
 "cells": [
  {
   "cell_type": "code",
   "execution_count": 13,
   "id": "07148136-c763-493c-90a9-42d84d75fc28",
   "metadata": {},
   "outputs": [],
   "source": [
    "import numpy as np\n",
    "import pandas as pd\n",
    "import tensorflow as tf\n",
    "from sklearn.metrics import classification_report, confusion_matrix\n",
    "from tensorflow.keras.models import Sequential\n",
    "from tensorflow.keras.layers import Conv2D, MaxPooling2D, Flatten, Dense, BatchNormalization, Dropout, GlobalAveragePooling2D\n",
    "from tensorflow.keras.preprocessing.image import ImageDataGenerator\n",
    "import os"
   ]
  },
  {
   "cell_type": "markdown",
   "id": "3a987f9e-9772-4776-a886-710d415fca7f",
   "metadata": {},
   "source": [
    "# The Problem\n",
    "\n",
    "It can often be difficult to identify cancer cells in patient imaging. The objective of this mini project is to create an image classification model using deep learning. We will be using a CNN or convolution neural network to train and classify the images that are in the dataset. This problem will be a binary classification of if the patient has Cancer or not. \n",
    "\n",
    "This notebook will follow the process of EDA, building and designing a model, and getting explorig results. The first pass will be an initial approach into how well the model does. From there we will build toward hyperparameters to create a better and better model"
   ]
  },
  {
   "cell_type": "markdown",
   "id": "6147dfb9-2b88-46aa-8512-030e42281212",
   "metadata": {},
   "source": [
    "## Data\n",
    "\n",
    "The provided data is split into two folders. Train and Test. Inside each of these is numerous images with the .tif extension. Looking at one of the images it has the demensions 96 X 96 pixels. Bit depth of 24. We also have a the labels of the imaging for the train data in train_labels.csv"
   ]
  },
  {
   "cell_type": "markdown",
   "id": "b9bb3a0c-1fc5-4a73-84b1-81214f2da9e6",
   "metadata": {},
   "source": [
    "## Pre processing (EDA)\n",
    "### First pass\n",
    "I initially converted all .tif files to png's since I believed these would be easier to work with. In the end I was able to use the .tif files directly. Some of the inital approaches I took to preprocessing were as follows.\n",
    "- using (64,64) standard sizing of all images\n",
    "- inial train_datgen doing rescale 1./255 and validation split of 0.2\n",
    "### Second pass \n",
    "I will go ahead and add the following\n",
    "```\n",
    "train_datagen = ImageDataGenerator(\n",
    "    rescale=1.0/255,           # Normalize pixel values to [0, 1]\n",
    "    rotation_range=20,         # Random rotation\n",
    "    width_shift_range=0.2,     # Horizontal shift\n",
    "    height_shift_range=0.2,    # Vertical shift\n",
    "    shear_range=0.15,          # Shear transformation\n",
    "    zoom_range=0.2,            # Zoom in/out\n",
    "    horizontal_flip=True,      # Random horizontal flip\n",
    "    fill_mode='nearest',       # Fill in empty pixels after transform\n",
    "    validation_split=0.2       # Split data into training/validation\n",
    ")\n",
    "```"
   ]
  },
  {
   "cell_type": "code",
   "execution_count": null,
   "id": "8ea2b4ad-5cc0-452a-a7fb-9a8cb8e2ea97",
   "metadata": {},
   "outputs": [],
   "source": [
    "from PIL import Image\n",
    "import os\n",
    "\n",
    "input_dir = \"histopathologic-cancer-detection/train\"\n",
    "output_dir = \"histopathologic-cancer-detection/train_png\"\n",
    "\n",
    "os.makedirs(output_dir, exist_ok=True)\n",
    "\n",
    "for filename in os.listdir(input_dir):\n",
    "    if filename.endswith(\".tif\") or filename.endswith(\".tiff\"):\n",
    "        img = Image.open(os.path.join(input_dir, filename))\n",
    "        new_filename = filename.rsplit('.', 1)[0] + \".png\"  # or \".jpg\"\n",
    "        img.save(os.path.join(output_dir, new_filename))\n",
    "\n",
    "input_dir = \"histopathologic-cancer-detection/test\"\n",
    "output_dir = \"histopathologic-cancer-detection/test_png\"\n",
    "\n",
    "os.makedirs(output_dir, exist_ok=True)\n",
    "\n",
    "for filename in os.listdir(input_dir):\n",
    "    if filename.endswith(\".tif\") or filename.endswith(\".tiff\"):\n",
    "        img = Image.open(os.path.join(input_dir, filename))\n",
    "        new_filename = filename.rsplit('.', 1)[0] + \".png\"  # or \".jpg\"\n",
    "        img.save(os.path.join(output_dir, new_filename))"
   ]
  },
  {
   "cell_type": "code",
   "execution_count": 6,
   "id": "a123e4b4-c483-43d3-b4e4-ea8cf4d3c4e2",
   "metadata": {},
   "outputs": [],
   "source": [
    "train_df = pd.read_csv(\"histopathologic-cancer-detection/train_labels.csv\")"
   ]
  },
  {
   "cell_type": "code",
   "execution_count": 7,
   "id": "2c38e218-d8dc-4a7e-8393-423b558a7dbe",
   "metadata": {},
   "outputs": [
    {
     "name": "stdout",
     "output_type": "stream",
     "text": [
      "Found 176020 validated image filenames belonging to 2 classes.\n",
      "Found 44005 validated image filenames belonging to 2 classes.\n",
      "Found 57458 validated image filenames.\n"
     ]
    }
   ],
   "source": [
    "train_df['filename'] = train_df['id'].astype(str) + '.tif'\n",
    "train_df['label'] = train_df['label'].astype(str)\n",
    "train_datagen = ImageDataGenerator(\n",
    "    rescale=1.0/255,           # Normalize pixel values to [0, 1]\n",
    "    rotation_range=20,         # Random rotation\n",
    "    width_shift_range=0.2,     # Horizontal shift\n",
    "    height_shift_range=0.2,    # Vertical shift\n",
    "    shear_range=0.15,          # Shear transformation\n",
    "    zoom_range=0.2,            # Zoom in/out\n",
    "    horizontal_flip=True,      # Random horizontal flip\n",
    "    fill_mode='nearest',       # Fill in empty pixels after transform\n",
    "    validation_split=0.2       # Split data into training/validation\n",
    ")\n",
    "train_generator = train_datagen.flow_from_dataframe(\n",
    "    dataframe=train_df,\n",
    "    x_col='filename',\n",
    "    y_col='label',\n",
    "    target_size=(96, 96),\n",
    "    directory='./histopathologic-cancer-detection/train/',\n",
    "    color_mode='rgb',       # or 'grayscale' if needed\n",
    "    class_mode='binary',\n",
    "    batch_size=32,\n",
    "    shuffle=True,\n",
    "    subset='training',\n",
    "    seed=42\n",
    ")\n",
    "\n",
    "val_generator = train_datagen.flow_from_dataframe(\n",
    "    dataframe=train_df,\n",
    "    x_col='filename',\n",
    "    y_col='label',\n",
    "    directory='./histopathologic-cancer-detection/train/',\n",
    "    target_size=(96, 96),\n",
    "    color_mode='rgb',\n",
    "    class_mode='binary',\n",
    "    batch_size=32,\n",
    "    shuffle=True,\n",
    "    subset='validation',\n",
    "    seed=42\n",
    ")\n",
    "\n",
    "test_dir = './histopathologic-cancer-detection/test/'\n",
    "test_filenames = os.listdir(test_dir)\n",
    "\n",
    "# Optional: filter to .tif only\n",
    "test_filenames = [f for f in test_filenames if f.endswith('.tif')]\n",
    "\n",
    "test_df = pd.DataFrame({\n",
    "    'filename': test_filenames\n",
    "})\n",
    "\n",
    "test_generator = ImageDataGenerator(rescale=1./255).flow_from_dataframe(\n",
    "    dataframe=test_df,\n",
    "    directory=test_dir,\n",
    "    x_col='filename',\n",
    "    target_size=(96, 96),\n",
    "    color_mode='rgb',\n",
    "    class_mode=None,\n",
    "    batch_size=32,\n",
    "    shuffle=False\n",
    ")"
   ]
  },
  {
   "cell_type": "markdown",
   "id": "e2495efe-feff-456c-a17f-74d4d1a1e6ab",
   "metadata": {},
   "source": [
    "## Model architecture\n",
    "### First Pass\n",
    "\n",
    "To start we will use some basic architecture and measure a baseline accuracy. Since the model is rgb we will be using an input size of (height, width, 3)\n",
    "For the number of layers I will use two Conv layers using relu and 2 MaxPooling using (2,2) size. I think that since the images are a bit smaller 96 X 96 its better to use 2,2 instead of 3,3 for our pooling. For the output activation layers we will be using sigmoid since it is a binary classification problem.\n",
    "\n",
    "## Hyper parameter tuning\n",
    "### Second Pass:\n",
    "- adding in Early stopping with a patience of 3\n",
    "- add in a adjustable learning rate modifier that is using Adam with 0.001 learning rate and bases off of val_loss\n",
    "\n",
    "### Thirds Pass:\n",
    "- Convert the model to take an input of 96, 96 to more closely match the images themselves\n",
    "- Add batch normalization to help with training speeds and accuracy\n",
    "- Add Droputs after layers to help with overfitting\n",
    "- Increased the Adam starting learning rate from 0.001 to 0.0005 since its training too slowly"
   ]
  },
  {
   "cell_type": "code",
   "execution_count": 14,
   "id": "3030ffe1-9e71-4547-88e6-16eae5fa54d9",
   "metadata": {},
   "outputs": [],
   "source": [
    "model = Sequential([\n",
    "    Conv2D(32, (3, 3), activation='relu', input_shape=(96, 96, 3)),\n",
    "    BatchNormalization(),\n",
    "    MaxPooling2D(pool_size=(2, 2)),\n",
    "    Dropout(0.5),\n",
    "\n",
    "    Conv2D(64, (3, 3), activation='relu'),\n",
    "    BatchNormalization(),\n",
    "    MaxPooling2D(pool_size=(2, 2)),\n",
    "    Dropout(0.5),\n",
    "\n",
    "    GlobalAveragePooling2D(),\n",
    "    Dense(128, activation='relu'),\n",
    "    Dense(1, activation='sigmoid')  # or 1 with 'sigmoid' if binary\n",
    "])"
   ]
  },
  {
   "cell_type": "code",
   "execution_count": 22,
   "id": "d5e2b4d2-e09f-4376-ac5b-c30783e12a2c",
   "metadata": {},
   "outputs": [
    {
     "name": "stdout",
     "output_type": "stream",
     "text": [
      "Epoch 1/5\n",
      "\u001b[1m5501/5501\u001b[0m \u001b[32m━━━━━━━━━━━━━━━━━━━━\u001b[0m\u001b[37m\u001b[0m \u001b[1m495s\u001b[0m 90ms/step - accuracy: 0.8588 - loss: 0.3273 - val_accuracy: 0.7129 - val_loss: 0.7618 - learning_rate: 0.0010\n",
      "Epoch 2/5\n",
      "\u001b[1m5501/5501\u001b[0m \u001b[32m━━━━━━━━━━━━━━━━━━━━\u001b[0m\u001b[37m\u001b[0m \u001b[1m706s\u001b[0m 128ms/step - accuracy: 0.8639 - loss: 0.3181 - val_accuracy: 0.8200 - val_loss: 0.4501 - learning_rate: 0.0010\n",
      "Epoch 3/5\n",
      "\u001b[1m5501/5501\u001b[0m \u001b[32m━━━━━━━━━━━━━━━━━━━━\u001b[0m\u001b[37m\u001b[0m \u001b[1m806s\u001b[0m 147ms/step - accuracy: 0.8696 - loss: 0.3075 - val_accuracy: 0.7686 - val_loss: 0.6021 - learning_rate: 0.0010\n",
      "Epoch 4/5\n",
      "\u001b[1m5501/5501\u001b[0m \u001b[32m━━━━━━━━━━━━━━━━━━━━\u001b[0m\u001b[37m\u001b[0m \u001b[1m413s\u001b[0m 75ms/step - accuracy: 0.8717 - loss: 0.3008 - val_accuracy: 0.8254 - val_loss: 0.4022 - learning_rate: 0.0010\n",
      "Epoch 5/5\n",
      "\u001b[1m5501/5501\u001b[0m \u001b[32m━━━━━━━━━━━━━━━━━━━━\u001b[0m\u001b[37m\u001b[0m \u001b[1m425s\u001b[0m 77ms/step - accuracy: 0.8707 - loss: 0.3012 - val_accuracy: 0.7978 - val_loss: 0.5118 - learning_rate: 0.0010\n"
     ]
    }
   ],
   "source": [
    "from tensorflow.keras.callbacks import EarlyStopping, ReduceLROnPlateau\n",
    "from tensorflow.keras.optimizers import Adam\n",
    "\n",
    "optimizer = Adam(learning_rate=0.001)\n",
    "model.compile(\n",
    "    optimizer=optimizer,\n",
    "    loss='binary_crossentropy',   # because it's binary classification\n",
    "    metrics=['accuracy']\n",
    ")\n",
    "   \n",
    "early_stop = EarlyStopping(\n",
    "    monitor='val_loss',\n",
    "    patience=3,\n",
    "    restore_best_weights=True\n",
    ")\n",
    "\n",
    "learning_rate = ReduceLROnPlateau(\n",
    "    monitor='val_loss', \n",
    "    factor=0.5,\n",
    "    patience=3\n",
    ")\n",
    "\n",
    "history = model.fit(\n",
    "    train_generator,\n",
    "    steps_per_epoch=len(train_generator),\n",
    "    validation_data=val_generator,\n",
    "    validation_steps=len(val_generator),\n",
    "    epochs=5,\n",
    "    batch_size=32,\n",
    "    callbacks=[early_stop, learning_rate]\n",
    ")"
   ]
  },
  {
   "cell_type": "code",
   "execution_count": 20,
   "id": "ea7302b0-b965-469e-85dd-5cf3e0c97308",
   "metadata": {},
   "outputs": [
    {
     "name": "stdout",
     "output_type": "stream",
     "text": [
      "\u001b[1m1796/1796\u001b[0m \u001b[32m━━━━━━━━━━━━━━━━━━━━\u001b[0m\u001b[37m\u001b[0m \u001b[1m34s\u001b[0m 19ms/step\n"
     ]
    }
   ],
   "source": [
    "preds = model.predict(test_generator)"
   ]
  },
  {
   "cell_type": "code",
   "execution_count": 21,
   "id": "7b13e3de-4fd8-459f-a30d-08ccf76c7397",
   "metadata": {},
   "outputs": [
    {
     "name": "stdout",
     "output_type": "stream",
     "text": [
      "[1 1 0 ... 0 0 0]\n"
     ]
    }
   ],
   "source": [
    "predicted_classes = (preds > 0.5).astype(int).flatten()\n",
    "print(predicted_classes)\n",
    "\n",
    "pd.DataFrame({\n",
    "    'id': test_df['filename'].str.replace('.tif', '',regex=False),\n",
    "    'label':predicted_classes\n",
    "}).to_csv('submission.csv', index=False, header=True)"
   ]
  },
  {
   "cell_type": "markdown",
   "id": "5c99ad76-5e89-4dab-af22-947fabb36456",
   "metadata": {},
   "source": [
    "## Results and Analysis\n",
    "\n",
    "### First Pass:\n",
    "The initial test run resulted in recieving a private score of 0.78 and a public score of 0.84. This places me around #1025. There are a lot of good scored in this competition. \n",
    "\n",
    "### Second Pass:\n",
    "After adding in the early stopping and the learning rate modifier I actually recieved a much lower score, around 0.7, I increased the number of epochs to 20 but the early stopping only got it to 4. I think this could be a sign of training too fast. Since the training loss decreased vut the validation loss increased we are likely overfitting. \n",
    "\n",
    "### Third Pass:\n",
    "\n",
    "The third pass took about 6 hours to do 5 epochs. I think that the batch size is too small. Also, the public score had dropped all the way to 0.632. Clearly the addition of early stopping as well as a smaller learning rate was worse for the results. Also when looking at the charts below you can see that the validation loss went up near the end of the training. This is likely since the early stopping patience was too large. I would like to continue to see if I can make more improvements however, the rate of training is so slow it would be hard to do a hyperparameter grid search on this data set."
   ]
  },
  {
   "cell_type": "code",
   "execution_count": 18,
   "id": "cc78fbf1-f2ef-43e3-a78c-fcbb6a83824e",
   "metadata": {},
   "outputs": [
    {
     "data": {
      "image/png": "[encoded data removed]",
      "text/plain": [
       "<Figure size 1400x500 with 2 Axes>"
      ]
     },
     "metadata": {},
     "output_type": "display_data"
    }
   ],
   "source": [
    "import matplotlib.pyplot as plt\n",
    "\n",
    "# Plot training & validation accuracy\n",
    "plt.figure(figsize=(14, 5))\n",
    "\n",
    "# Accuracy\n",
    "plt.subplot(1, 2, 1)\n",
    "plt.plot(history.history['accuracy'], label='Training Accuracy')\n",
    "plt.plot(history.history['val_accuracy'], label='Validation Accuracy')\n",
    "plt.title('Model Accuracy')\n",
    "plt.xlabel('Epoch')\n",
    "plt.ylabel('Accuracy')\n",
    "plt.legend()\n",
    "\n",
    "# Loss\n",
    "plt.subplot(1, 2, 2)\n",
    "plt.plot(history.history['loss'], label='Training Loss')\n",
    "plt.plot(history.history['val_loss'], label='Validation Loss')\n",
    "plt.title('Model Loss')\n",
    "plt.xlabel('Epoch')\n",
    "plt.ylabel('Loss')\n",
    "plt.legend()\n",
    "\n",
    "plt.tight_layout()\n",
    "plt.show()\n"
   ]
  },
  {
   "cell_type": "markdown",
   "id": "3c5bb8f3-ae03-46f6-8bef-fa6bcab90912",
   "metadata": {},
   "source": [
    "## Conclusion\n",
    "\n",
    "overall the biggest issue that I had with this project was the time to train. I would have liked to do some hyper parameter training but each run took around 2-6 hours depending on the configurations. The first run that I configured had the best score of 0.84 on the kaggle leaderboards. After that the scores went down and up depending on how I setup the configurations. I thought that early stopping and adjusting the learning rate would have helped to improve the scores, but I was wrong. Even on the last run that can be seen in the charts above the the validation accuracy dropped off at the end and the validation loss went up at the end. This is an indication that the model was trained for too long. Even so the best accuracy that was seen was around 0.82 which is not that good all in all. "
   ]
  },
  {
   "cell_type": "code",
   "execution_count": null,
   "id": "c2d1e66d-5b58-420c-8a6e-2c87432ab564",
   "metadata": {},
   "outputs": [],
   "source": []
  }
 ],
 "metadata": {
  "kernelspec": {
   "display_name": "Python 3.10 (py311env)",
   "language": "python",
   "name": "py310env"
  },
  "language_info": {
   "codemirror_mode": {
    "name": "ipython",
    "version": 3
   },
   "file_extension": ".py",
   "mimetype": "text/x-python",
   "name": "python",
   "nbconvert_exporter": "python",
   "pygments_lexer": "ipython3",
   "version": "3.12.3"
  }
 },
 "nbformat": 4,
 "nbformat_minor": 5
}
